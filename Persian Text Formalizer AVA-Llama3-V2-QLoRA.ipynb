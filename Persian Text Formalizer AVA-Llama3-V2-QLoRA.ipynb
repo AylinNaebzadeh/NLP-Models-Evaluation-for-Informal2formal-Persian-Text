{
 "cells": [
  {
   "cell_type": "code",
   "execution_count": 1,
   "metadata": {
    "_cell_guid": "b1076dfc-b9ad-4769-8c92-a6c4dae69d19",
    "_uuid": "8f2839f25d086af736a60e9eeb907d3b93b6e0e5",
    "execution": {
     "iopub.execute_input": "2025-08-25T07:38:01.965440Z",
     "iopub.status.busy": "2025-08-25T07:38:01.965287Z",
     "iopub.status.idle": "2025-08-25T07:38:03.136973Z",
     "shell.execute_reply": "2025-08-25T07:38:03.136218Z",
     "shell.execute_reply.started": "2025-08-25T07:38:01.965426Z"
    },
    "trusted": true
   },
   "outputs": [
    {
     "name": "stdout",
     "output_type": "stream",
     "text": [
      "/kaggle/input/ParsMap.xlsx\n"
     ]
    }
   ],
   "source": [
    "# This Python 3 environment comes with many helpful analytics libraries installed\n",
    "# It is defined by the kaggle/python Docker image: https://github.com/kaggle/docker-python\n",
    "# For example, here's several helpful packages to load\n",
    "\n",
    "import numpy as np # linear algebra\n",
    "import pandas as pd # data processing, CSV file I/O (e.g. pd.read_csv)\n",
    "\n",
    "# Input data files are available in the read-only \"../input/\" directory\n",
    "# For example, running this (by clicking run or pressing Shift+Enter) will list all files under the input directory\n",
    "\n",
    "import os\n",
    "for dirname, _, filenames in os.walk('/kaggle/input'):\n",
    "    for filename in filenames:\n",
    "        print(os.path.join(dirname, filename))\n",
    "\n",
    "# You can write up to 20GB to the current directory (/kaggle/working/) that gets preserved as output when you create a version using \"Save & Run All\" \n",
    "# You can also write temporary files to /kaggle/temp/, but they won't be saved outside of the current session"
   ]
  },
  {
   "cell_type": "code",
   "execution_count": null,
   "metadata": {
    "execution": {
     "iopub.execute_input": "2025-08-25T07:38:59.196738Z",
     "iopub.status.busy": "2025-08-25T07:38:59.195956Z",
     "iopub.status.idle": "2025-08-25T07:38:59.551698Z",
     "shell.execute_reply": "2025-08-25T07:38:59.550932Z",
     "shell.execute_reply.started": "2025-08-25T07:38:59.196711Z"
    },
    "trusted": true
   },
   "outputs": [],
   "source": [
    "!mkdir ~/.kaggle\n",
    "!touch ~/.kaggle/kaggle.json\n",
    "\n",
    "api_token = {\"username\":\"\",\"key\":\"\"}\n",
    "\n",
    "import json\n",
    "\n",
    "with open('/root/.kaggle/kaggle.json', 'w') as file:\n",
    "    json.dump(api_token, file)\n",
    "\n",
    "!chmod 600 ~/.kaggle/kaggle.json"
   ]
  },
  {
   "cell_type": "code",
   "execution_count": 4,
   "metadata": {
    "execution": {
     "iopub.execute_input": "2025-08-25T07:39:29.054205Z",
     "iopub.status.busy": "2025-08-25T07:39:29.053676Z",
     "iopub.status.idle": "2025-08-25T07:43:50.374469Z",
     "shell.execute_reply": "2025-08-25T07:43:50.373520Z",
     "shell.execute_reply.started": "2025-08-25T07:39:29.054181Z"
    },
    "trusted": true
   },
   "outputs": [
    {
     "name": "stdout",
     "output_type": "stream",
     "text": [
      "Output file downloaded to /kaggle/working/AVA-Llama3-V2-formalizer-lora/README.md\n",
      "Output file downloaded to /kaggle/working/AVA-Llama3-V2-formalizer-lora/adapter_config.json\n",
      "Output file downloaded to /kaggle/working/AVA-Llama3-V2-formalizer-lora/adapter_model.safetensors\n",
      "Output file downloaded to /kaggle/working/AVA-llama3-v2-formalizer-lora/checkpoint-2500/README.md\n",
      "Output file downloaded to /kaggle/working/AVA-llama3-v2-formalizer-lora/checkpoint-2500/adapter_config.json\n",
      "Output file downloaded to /kaggle/working/AVA-llama3-v2-formalizer-lora/checkpoint-2500/adapter_model.safetensors\n",
      "Output file downloaded to /kaggle/working/AVA-llama3-v2-formalizer-lora/checkpoint-2500/chat_template.jinja\n",
      "Output file downloaded to /kaggle/working/AVA-llama3-v2-formalizer-lora/checkpoint-2500/optimizer.pt\n",
      "Output file downloaded to /kaggle/working/AVA-llama3-v2-formalizer-lora/checkpoint-2500/rng_state.pth\n",
      "Output file downloaded to /kaggle/working/AVA-llama3-v2-formalizer-lora/checkpoint-2500/scaler.pt\n",
      "Output file downloaded to /kaggle/working/AVA-llama3-v2-formalizer-lora/checkpoint-2500/scheduler.pt\n",
      "Output file downloaded to /kaggle/working/AVA-llama3-v2-formalizer-lora/checkpoint-2500/special_tokens_map.json\n",
      "Output file downloaded to /kaggle/working/AVA-llama3-v2-formalizer-lora/checkpoint-2500/tokenizer.json\n",
      "Output file downloaded to /kaggle/working/AVA-llama3-v2-formalizer-lora/checkpoint-2500/tokenizer_config.json\n",
      "Output file downloaded to /kaggle/working/AVA-llama3-v2-formalizer-lora/checkpoint-2500/trainer_state.json\n",
      "Output file downloaded to /kaggle/working/AVA-llama3-v2-formalizer-lora/checkpoint-2500/training_args.bin\n",
      "Output file downloaded to /kaggle/working/AVA-llama3-v2-formalizer-lora/checkpoint-2814/README.md\n",
      "Output file downloaded to /kaggle/working/AVA-llama3-v2-formalizer-lora/checkpoint-2814/adapter_config.json\n",
      "Output file downloaded to /kaggle/working/AVA-llama3-v2-formalizer-lora/checkpoint-2814/adapter_model.safetensors\n",
      "Output file downloaded to /kaggle/working/AVA-llama3-v2-formalizer-lora/checkpoint-2814/chat_template.jinja\n",
      "Output file downloaded to /kaggle/working/AVA-llama3-v2-formalizer-lora/checkpoint-2814/optimizer.pt\n",
      "Output file downloaded to /kaggle/working/AVA-llama3-v2-formalizer-lora/checkpoint-2814/rng_state.pth\n",
      "Output file downloaded to /kaggle/working/AVA-llama3-v2-formalizer-lora/checkpoint-2814/scaler.pt\n",
      "Output file downloaded to /kaggle/working/AVA-llama3-v2-formalizer-lora/checkpoint-2814/scheduler.pt\n",
      "Output file downloaded to /kaggle/working/AVA-llama3-v2-formalizer-lora/checkpoint-2814/special_tokens_map.json\n",
      "Output file downloaded to /kaggle/working/AVA-llama3-v2-formalizer-lora/checkpoint-2814/tokenizer.json\n",
      "Output file downloaded to /kaggle/working/AVA-llama3-v2-formalizer-lora/checkpoint-2814/tokenizer_config.json\n",
      "Output file downloaded to /kaggle/working/AVA-llama3-v2-formalizer-lora/checkpoint-2814/trainer_state.json\n",
      "Output file downloaded to /kaggle/working/AVA-llama3-v2-formalizer-lora/checkpoint-2814/training_args.bin\n",
      "Output file downloaded to /kaggle/working/wandb/settings\n",
      "Kernel log downloaded to /kaggle/working/ava-llama3-v2.log \n"
     ]
    }
   ],
   "source": [
    "!kaggle kernels output sepantapw/ava-llama3-v2 -p /kaggle/working"
   ]
  },
  {
   "cell_type": "markdown",
   "metadata": {},
   "source": [
    "# Sources\n",
    "- https://tuanatran.medium.com/fine-tuning-large-language-model-with-hugging-face-pytorch-adce80dce2ad\n",
    "- https://www.kaggle.com/code/shayanbemanian/persian-informal-to-formal-transformation"
   ]
  },
  {
   "cell_type": "markdown",
   "metadata": {},
   "source": [
    "# W&B first of all:)"
   ]
  },
  {
   "cell_type": "code",
   "execution_count": 6,
   "metadata": {
    "execution": {
     "iopub.execute_input": "2025-08-25T07:47:38.254682Z",
     "iopub.status.busy": "2025-08-25T07:47:38.254149Z",
     "iopub.status.idle": "2025-08-25T07:48:19.931069Z",
     "shell.execute_reply": "2025-08-25T07:48:19.930082Z",
     "shell.execute_reply.started": "2025-08-25T07:47:38.254658Z"
    },
    "trusted": true
   },
   "outputs": [
    {
     "name": "stdout",
     "output_type": "stream",
     "text": [
      "\u001b[2K   \u001b[90m━━━━━━━━━━━━━━━━━━━━━━━━━━━━━━━━━━━━━━━━\u001b[0m \u001b[32m6.8/6.8 MB\u001b[0m \u001b[31m56.5 MB/s\u001b[0m eta \u001b[36m0:00:00\u001b[0m00:01\u001b[0m00:01\u001b[0m\n",
      "\u001b[?25hW&B offline. Running your script from this directory will only write metadata locally. Use wandb disabled to completely turn off W&B.\n",
      "W&B disabled.\n"
     ]
    }
   ],
   "source": [
    "import warnings\n",
    "warnings.filterwarnings('ignore') \n",
    "# ------------------------\n",
    "!pip uninstall -y --quiet wandb\n",
    "!pip install --quiet wandb==0.17.5 \n",
    "# ------------------------\n",
    "import wandb\n",
    "!wandb offline\n",
    "!wandb disabled\n",
    "# ------------------------\n",
    "import os\n",
    "os.environ[\"WANDB_DISABLED\"] = \"true\""
   ]
  },
  {
   "cell_type": "markdown",
   "metadata": {},
   "source": [
    "# Install libraries"
   ]
  },
  {
   "cell_type": "code",
   "execution_count": 7,
   "metadata": {
    "execution": {
     "iopub.execute_input": "2025-08-25T07:48:19.933223Z",
     "iopub.status.busy": "2025-08-25T07:48:19.932985Z",
     "iopub.status.idle": "2025-08-25T07:50:16.974069Z",
     "shell.execute_reply": "2025-08-25T07:50:16.972976Z",
     "shell.execute_reply.started": "2025-08-25T07:48:19.933201Z"
    },
    "trusted": true
   },
   "outputs": [
    {
     "name": "stdout",
     "output_type": "stream",
     "text": [
      "\u001b[2K     \u001b[90m━━━━━━━━━━━━━━━━━━━━━━━━━━━━━━━━━━━━━━━━\u001b[0m \u001b[32m42.0/42.0 kB\u001b[0m \u001b[31m1.5 MB/s\u001b[0m eta \u001b[36m0:00:00\u001b[0m\n",
      "\u001b[2K   \u001b[90m━━━━━━━━━━━━━━━━━━━━━━━━━━━━━━━━━━━━━━━━\u001b[0m \u001b[32m494.8/494.8 kB\u001b[0m \u001b[31m12.0 MB/s\u001b[0m eta \u001b[36m0:00:00\u001b[0m00:01\u001b[0m\n",
      "\u001b[2K   \u001b[90m━━━━━━━━━━━━━━━━━━━━━━━━━━━━━━━━━━━━━━━━\u001b[0m \u001b[32m11.3/11.3 MB\u001b[0m \u001b[31m87.1 MB/s\u001b[0m eta \u001b[36m0:00:00\u001b[0m:00:01\u001b[0m0:01\u001b[0m\n",
      "\u001b[2K   \u001b[90m━━━━━━━━━━━━━━━━━━━━━━━━━━━━━━━━━━━━━━━━\u001b[0m \u001b[32m84.1/84.1 kB\u001b[0m \u001b[31m4.6 MB/s\u001b[0m eta \u001b[36m0:00:00\u001b[0m\n",
      "\u001b[2K   \u001b[90m━━━━━━━━━━━━━━━━━━━━━━━━━━━━━━━━━━━━━━━━\u001b[0m \u001b[32m1.4/1.4 MB\u001b[0m \u001b[31m53.6 MB/s\u001b[0m eta \u001b[36m0:00:00\u001b[0m\n",
      "\u001b[2K   \u001b[90m━━━━━━━━━━━━━━━━━━━━━━━━━━━━━━━━━━━━━━━━\u001b[0m \u001b[32m374.7/374.7 kB\u001b[0m \u001b[31m24.1 MB/s\u001b[0m eta \u001b[36m0:00:00\u001b[0m\n",
      "\u001b[2K   \u001b[90m━━━━━━━━━━━━━━━━━━━━━━━━━━━━━━━━━━━━━━━━\u001b[0m \u001b[32m193.6/193.6 kB\u001b[0m \u001b[31m10.3 MB/s\u001b[0m eta \u001b[36m0:00:00\u001b[0m\n",
      "\u001b[2K   \u001b[90m━━━━━━━━━━━━━━━━━━━━━━━━━━━━━━━━━━━━━━━━\u001b[0m \u001b[32m561.5/561.5 kB\u001b[0m \u001b[31m30.9 MB/s\u001b[0m eta \u001b[36m0:00:00\u001b[0m\n",
      "\u001b[2K   \u001b[90m━━━━━━━━━━━━━━━━━━━━━━━━━━━━━━━━━━━━━━━━\u001b[0m \u001b[32m363.4/363.4 MB\u001b[0m \u001b[31m1.9 MB/s\u001b[0m eta \u001b[36m0:00:00\u001b[0m:00:01\u001b[0m00:01\u001b[0m\n",
      "\u001b[2K   \u001b[90m━━━━━━━━━━━━━━━━━━━━━━━━━━━━━━━━━━━━━━━━\u001b[0m \u001b[32m13.8/13.8 MB\u001b[0m \u001b[31m98.0 MB/s\u001b[0m eta \u001b[36m0:00:00\u001b[0m:00:01\u001b[0m0:01\u001b[0m\n",
      "\u001b[2K   \u001b[90m━━━━━━━━━━━━━━━━━━━━━━━━━━━━━━━━━━━━━━━━\u001b[0m \u001b[32m24.6/24.6 MB\u001b[0m \u001b[31m76.7 MB/s\u001b[0m eta \u001b[36m0:00:00\u001b[0m:00:01\u001b[0m00:01\u001b[0m\n",
      "\u001b[2K   \u001b[90m━━━━━━━━━━━━━━━━━━━━━━━━━━━━━━━━━━━━━━━━\u001b[0m \u001b[32m883.7/883.7 kB\u001b[0m \u001b[31m34.7 MB/s\u001b[0m eta \u001b[36m0:00:00\u001b[0m\n",
      "\u001b[2K   \u001b[90m━━━━━━━━━━━━━━━━━━━━━━━━━━━━━━━━━━━━━━━━\u001b[0m \u001b[32m664.8/664.8 MB\u001b[0m \u001b[31m2.6 MB/s\u001b[0m eta \u001b[36m0:00:00\u001b[0m:00:01\u001b[0m00:01\u001b[0m\n",
      "\u001b[2K   \u001b[90m━━━━━━━━━━━━━━━━━━━━━━━━━━━━━━━━━━━━━━━━\u001b[0m \u001b[32m211.5/211.5 MB\u001b[0m \u001b[31m8.0 MB/s\u001b[0m eta \u001b[36m0:00:00\u001b[0m:00:01\u001b[0m00:01\u001b[0m\n",
      "\u001b[2K   \u001b[90m━━━━━━━━━━━━━━━━━━━━━━━━━━━━━━━━━━━━━━━━\u001b[0m \u001b[32m56.3/56.3 MB\u001b[0m \u001b[31m29.8 MB/s\u001b[0m eta \u001b[36m0:00:00\u001b[0m:00:01\u001b[0m00:01\u001b[0m\n",
      "\u001b[2K   \u001b[90m━━━━━━━━━━━━━━━━━━━━━━━━━━━━━━━━━━━━━━━━\u001b[0m \u001b[32m127.9/127.9 MB\u001b[0m \u001b[31m13.1 MB/s\u001b[0m eta \u001b[36m0:00:00\u001b[0m00:01\u001b[0m00:01\u001b[0m\n",
      "\u001b[2K   \u001b[90m━━━━━━━━━━━━━━━━━━━━━━━━━━━━━━━━━━━━━━━━\u001b[0m \u001b[32m207.5/207.5 MB\u001b[0m \u001b[31m8.2 MB/s\u001b[0m eta \u001b[36m0:00:00\u001b[0m:00:01\u001b[0m00:01\u001b[0m\n",
      "\u001b[2K   \u001b[90m━━━━━━━━━━━━━━━━━━━━━━━━━━━━━━━━━━━━━━━━\u001b[0m \u001b[32m21.1/21.1 MB\u001b[0m \u001b[31m84.1 MB/s\u001b[0m eta \u001b[36m0:00:00\u001b[0m:00:01\u001b[0m00:01\u001b[0m\n",
      "\u001b[?25h\u001b[31mERROR: pip's dependency resolver does not currently take into account all the packages that are installed. This behaviour is the source of the following dependency conflicts.\n",
      "bigframes 2.8.0 requires google-cloud-bigquery-storage<3.0.0,>=2.30.0, which is not installed.\n",
      "cesium 0.12.4 requires numpy<3.0,>=2.0, but you have numpy 1.26.4 which is incompatible.\n",
      "gcsfs 2025.3.2 requires fsspec==2025.3.2, but you have fsspec 2025.3.0 which is incompatible.\n",
      "bigframes 2.8.0 requires google-cloud-bigquery[bqstorage,pandas]>=3.31.0, but you have google-cloud-bigquery 3.25.0 which is incompatible.\n",
      "bigframes 2.8.0 requires rich<14,>=12.4.4, but you have rich 14.0.0 which is incompatible.\u001b[0m\u001b[31m\n",
      "\u001b[2K     \u001b[90m━━━━━━━━━━━━━━━━━━━━━━━━━━━━━━━━━━━━━━━━\u001b[0m \u001b[32m60.6/60.6 kB\u001b[0m \u001b[31m2.5 MB/s\u001b[0m eta \u001b[36m0:00:00\u001b[0m\n",
      "\u001b[2K   \u001b[90m━━━━━━━━━━━━━━━━━━━━━━━━━━━━━━━━━━━━━━━━\u001b[0m \u001b[32m3.0/3.0 MB\u001b[0m \u001b[31m40.8 MB/s\u001b[0m eta \u001b[36m0:00:00\u001b[0m00:01\u001b[0m00:01\u001b[0m\n",
      "\u001b[2K   \u001b[90m━━━━━━━━━━━━━━━━━━━━━━━━━━━━━━━━━━━━━━━━\u001b[0m \u001b[32m2.9/2.9 MB\u001b[0m \u001b[31m81.1 MB/s\u001b[0m eta \u001b[36m0:00:00\u001b[0m:00:01\u001b[0m\n",
      "\u001b[2K   \u001b[90m━━━━━━━━━━━━━━━━━━━━━━━━━━━━━━━━━━━━━━━━\u001b[0m \u001b[32m199.1/199.1 kB\u001b[0m \u001b[31m11.5 MB/s\u001b[0m eta \u001b[36m0:00:00\u001b[0m\n",
      "\u001b[2K   \u001b[90m━━━━━━━━━━━━━━━━━━━━━━━━━━━━━━━━━━━━━━━━\u001b[0m \u001b[32m96.4/96.4 kB\u001b[0m \u001b[31m5.5 MB/s\u001b[0m eta \u001b[36m0:00:00\u001b[0m\n",
      "\u001b[2K   \u001b[90m━━━━━━━━━━━━━━━━━━━━━━━━━━━━━━━━━━━━━━━━\u001b[0m \u001b[32m67.9/67.9 kB\u001b[0m \u001b[31m3.1 MB/s\u001b[0m eta \u001b[36m0:00:00\u001b[0m\n",
      "\u001b[2K   \u001b[90m━━━━━━━━━━━━━━━━━━━━━━━━━━━━━━━━━━━━━━━━\u001b[0m \u001b[32m50.7/50.7 kB\u001b[0m \u001b[31m2.7 MB/s\u001b[0m eta \u001b[36m0:00:00\u001b[0m\n",
      "\u001b[2K   \u001b[90m━━━━━━━━━━━━━━━━━━━━━━━━━━━━━━━━━━━━━━━━\u001b[0m \u001b[32m141.3/141.3 kB\u001b[0m \u001b[31m7.2 MB/s\u001b[0m eta \u001b[36m0:00:00\u001b[0m\n",
      "\u001b[2K   \u001b[90m━━━━━━━━━━━━━━━━━━━━━━━━━━━━━━━━━━━━━━━━\u001b[0m \u001b[32m412.9/412.9 kB\u001b[0m \u001b[31m25.1 MB/s\u001b[0m eta \u001b[36m0:00:00\u001b[0m\n",
      "\u001b[2K   \u001b[90m━━━━━━━━━━━━━━━━━━━━━━━━━━━━━━━━━━━━━━━━\u001b[0m \u001b[32m897.5/897.5 kB\u001b[0m \u001b[31m38.3 MB/s\u001b[0m eta \u001b[36m0:00:00\u001b[0m\n",
      "\u001b[2K   \u001b[90m━━━━━━━━━━━━━━━━━━━━━━━━━━━━━━━━━━━━━━━━\u001b[0m \u001b[32m9.7/9.7 MB\u001b[0m \u001b[31m112.0 MB/s\u001b[0m eta \u001b[36m0:00:00\u001b[0m00:01\u001b[0m00:01\u001b[0m\n",
      "\u001b[2K   \u001b[90m━━━━━━━━━━━━━━━━━━━━━━━━━━━━━━━━━━━━━━━━\u001b[0m \u001b[32m38.6/38.6 MB\u001b[0m \u001b[31m50.1 MB/s\u001b[0m eta \u001b[36m0:00:00\u001b[0m:00:01\u001b[0m00:01\u001b[0m\n",
      "\u001b[2K   \u001b[90m━━━━━━━━━━━━━━━━━━━━━━━━━━━━━━━━━━━━━━━━\u001b[0m \u001b[32m171.5/171.5 kB\u001b[0m \u001b[31m9.2 MB/s\u001b[0m eta \u001b[36m0:00:00\u001b[0m\n",
      "\u001b[2K   \u001b[90m━━━━━━━━━━━━━━━━━━━━━━━━━━━━━━━━━━━━━━━━\u001b[0m \u001b[32m2.0/2.0 MB\u001b[0m \u001b[31m66.1 MB/s\u001b[0m eta \u001b[36m0:00:00\u001b[0m\n",
      "\u001b[2K   \u001b[90m━━━━━━━━━━━━━━━━━━━━━━━━━━━━━━━━━━━━━━━━\u001b[0m \u001b[32m95.8/95.8 kB\u001b[0m \u001b[31m5.6 MB/s\u001b[0m eta \u001b[36m0:00:00\u001b[0m\n",
      "\u001b[2K   \u001b[90m━━━━━━━━━━━━━━━━━━━━━━━━━━━━━━━━━━━━━━━━\u001b[0m \u001b[32m894.0/894.0 kB\u001b[0m \u001b[31m42.7 MB/s\u001b[0m eta \u001b[36m0:00:00\u001b[0m\n",
      "\u001b[2K   \u001b[90m━━━━━━━━━━━━━━━━━━━━━━━━━━━━━━━━━━━━━━━━\u001b[0m \u001b[32m3.9/3.9 MB\u001b[0m \u001b[31m82.8 MB/s\u001b[0m eta \u001b[36m0:00:00\u001b[0m:00:01\u001b[0m\n",
      "\u001b[2K   \u001b[90m━━━━━━━━━━━━━━━━━━━━━━━━━━━━━━━━━━━━━━━━\u001b[0m \u001b[32m11.7/11.7 MB\u001b[0m \u001b[31m114.2 MB/s\u001b[0m eta \u001b[36m0:00:00\u001b[0m00:01\u001b[0m0:01\u001b[0m\n",
      "\u001b[?25h\u001b[31mERROR: pip's dependency resolver does not currently take into account all the packages that are installed. This behaviour is the source of the following dependency conflicts.\n",
      "bigframes 2.8.0 requires google-cloud-bigquery-storage<3.0.0,>=2.30.0, which is not installed.\n",
      "datasets 4.0.0 requires fsspec[http]<=2025.3.0,>=2023.1.0, but you have fsspec 2025.5.1 which is incompatible.\n",
      "category-encoders 2.7.0 requires scikit-learn<1.6.0,>=1.0.0, but you have scikit-learn 1.7.1 which is incompatible.\n",
      "cesium 0.12.4 requires numpy<3.0,>=2.0, but you have numpy 1.26.4 which is incompatible.\n",
      "dopamine-rl 4.1.2 requires gymnasium>=1.0.0, but you have gymnasium 0.29.0 which is incompatible.\n",
      "sklearn-compat 0.1.3 requires scikit-learn<1.7,>=1.2, but you have scikit-learn 1.7.1 which is incompatible.\n",
      "gcsfs 2025.3.2 requires fsspec==2025.3.2, but you have fsspec 2025.5.1 which is incompatible.\n",
      "plotnine 0.14.5 requires matplotlib>=3.8.0, but you have matplotlib 3.7.2 which is incompatible.\n",
      "bigframes 2.8.0 requires google-cloud-bigquery[bqstorage,pandas]>=3.31.0, but you have google-cloud-bigquery 3.25.0 which is incompatible.\n",
      "bigframes 2.8.0 requires rich<14,>=12.4.4, but you have rich 14.0.0 which is incompatible.\u001b[0m\u001b[31m\n",
      "\u001b[0m"
     ]
    }
   ],
   "source": [
    "!pip install --quiet --upgrade datasets transformers evaluate sentencepiece accelerate \n",
    "!pip install --quiet dadmatools[full]"
   ]
  },
  {
   "cell_type": "code",
   "execution_count": 8,
   "metadata": {
    "execution": {
     "iopub.execute_input": "2025-08-25T07:50:16.975267Z",
     "iopub.status.busy": "2025-08-25T07:50:16.974989Z",
     "iopub.status.idle": "2025-08-25T07:50:27.225496Z",
     "shell.execute_reply": "2025-08-25T07:50:27.224390Z",
     "shell.execute_reply.started": "2025-08-25T07:50:16.975229Z"
    },
    "trusted": true
   },
   "outputs": [
    {
     "name": "stdout",
     "output_type": "stream",
     "text": [
      "\u001b[2K   \u001b[90m━━━━━━━━━━━━━━━━━━━━━━━━━━━━━━━━━━━━━━━━\u001b[0m \u001b[32m504.9/504.9 kB\u001b[0m \u001b[31m9.6 MB/s\u001b[0m eta \u001b[36m0:00:00\u001b[0m:00:01\u001b[0m\n",
      "\u001b[2K   \u001b[90m━━━━━━━━━━━━━━━━━━━━━━━━━━━━━━━━━━━━━━━━\u001b[0m \u001b[32m61.3/61.3 MB\u001b[0m \u001b[31m19.6 MB/s\u001b[0m eta \u001b[36m0:00:00\u001b[0m:00:01\u001b[0m00:01\u001b[0m\n",
      "\u001b[?25h"
     ]
    }
   ],
   "source": [
    "!pip install -U --quiet peft accelerate\n",
    "!pip install -U --quiet bitsandbytes"
   ]
  },
  {
   "cell_type": "code",
   "execution_count": 9,
   "metadata": {
    "execution": {
     "iopub.execute_input": "2025-08-25T07:50:27.228018Z",
     "iopub.status.busy": "2025-08-25T07:50:27.227759Z",
     "iopub.status.idle": "2025-08-25T07:50:32.345078Z",
     "shell.execute_reply": "2025-08-25T07:50:32.344370Z",
     "shell.execute_reply.started": "2025-08-25T07:50:27.227994Z"
    },
    "trusted": true
   },
   "outputs": [
    {
     "name": "stdout",
     "output_type": "stream",
     "text": [
      "  Preparing metadata (setup.py) ... \u001b[?25l\u001b[?25hdone\n",
      "  Building wheel for rouge-score (setup.py) ... \u001b[?25l\u001b[?25hdone\n"
     ]
    }
   ],
   "source": [
    "!pip install -U --quiet rouge-score"
   ]
  },
  {
   "cell_type": "markdown",
   "metadata": {},
   "source": [
    "# Libraries"
   ]
  },
  {
   "cell_type": "code",
   "execution_count": 10,
   "metadata": {
    "execution": {
     "iopub.execute_input": "2025-08-25T07:50:32.346237Z",
     "iopub.status.busy": "2025-08-25T07:50:32.346031Z",
     "iopub.status.idle": "2025-08-25T07:51:00.739025Z",
     "shell.execute_reply": "2025-08-25T07:51:00.738413Z",
     "shell.execute_reply.started": "2025-08-25T07:50:32.346216Z"
    },
    "trusted": true
   },
   "outputs": [
    {
     "name": "stderr",
     "output_type": "stream",
     "text": [
      "2025-08-25 07:50:43.178367: E external/local_xla/xla/stream_executor/cuda/cuda_fft.cc:477] Unable to register cuFFT factory: Attempting to register factory for plugin cuFFT when one has already been registered\n",
      "WARNING: All log messages before absl::InitializeLog() is called are written to STDERR\n",
      "E0000 00:00:1756108243.508811      36 cuda_dnn.cc:8310] Unable to register cuDNN factory: Attempting to register factory for plugin cuDNN when one has already been registered\n",
      "E0000 00:00:1756108243.602127      36 cuda_blas.cc:1418] Unable to register cuBLAS factory: Attempting to register factory for plugin cuBLAS when one has already been registered\n"
     ]
    }
   ],
   "source": [
    "import numpy as np\n",
    "import pandas as pd\n",
    "from tqdm import tqdm\n",
    "from dadmatools.normalizer import Normalizer\n",
    "\n",
    "import torch\n",
    "from torch.utils.data import DataLoader, RandomSampler, SequentialSampler, random_split\n",
    "from torch.optim import AdamW\n",
    "\n",
    "from datasets import Dataset, DatasetDict\n",
    "\n",
    "from transformers import AutoTokenizer, AutoModelForCausalLM, AutoConfig, get_linear_schedule_with_warmup\n",
    "from transformers import  BitsAndBytesConfig, DataCollatorForLanguageModeling, TrainingArguments, Trainer\n",
    "\n",
    "from peft import LoraConfig, get_peft_model, prepare_model_for_kbit_training\n",
    "\n",
    "\n",
    "import seaborn as sns\n",
    "import matplotlib.pyplot as plt\n",
    "\n",
    "import re\n",
    "import random\n",
    "import time\n",
    "import datetime\n",
    "import os\n",
    "\n",
    "\n"
   ]
  },
  {
   "cell_type": "code",
   "execution_count": 11,
   "metadata": {
    "execution": {
     "iopub.execute_input": "2025-08-25T07:51:00.740771Z",
     "iopub.status.busy": "2025-08-25T07:51:00.739833Z",
     "iopub.status.idle": "2025-08-25T07:51:00.745339Z",
     "shell.execute_reply": "2025-08-25T07:51:00.744705Z",
     "shell.execute_reply.started": "2025-08-25T07:51:00.740740Z"
    },
    "trusted": true
   },
   "outputs": [],
   "source": [
    "tqdm.pandas()"
   ]
  },
  {
   "cell_type": "markdown",
   "metadata": {},
   "source": [
    "# Read input data"
   ]
  },
  {
   "cell_type": "code",
   "execution_count": 12,
   "metadata": {
    "execution": {
     "iopub.execute_input": "2025-08-25T07:51:00.746488Z",
     "iopub.status.busy": "2025-08-25T07:51:00.746196Z",
     "iopub.status.idle": "2025-08-25T07:51:07.032980Z",
     "shell.execute_reply": "2025-08-25T07:51:07.032173Z",
     "shell.execute_reply.started": "2025-08-25T07:51:00.746463Z"
    },
    "trusted": true
   },
   "outputs": [
    {
     "data": {
      "text/html": [
       "<div>\n",
       "<style scoped>\n",
       "    .dataframe tbody tr th:only-of-type {\n",
       "        vertical-align: middle;\n",
       "    }\n",
       "\n",
       "    .dataframe tbody tr th {\n",
       "        vertical-align: top;\n",
       "    }\n",
       "\n",
       "    .dataframe thead th {\n",
       "        text-align: right;\n",
       "    }\n",
       "</style>\n",
       "<table border=\"1\" class=\"dataframe\">\n",
       "  <thead>\n",
       "    <tr style=\"text-align: right;\">\n",
       "      <th></th>\n",
       "      <th>inFormalForm</th>\n",
       "      <th>formalForm</th>\n",
       "      <th>formalWords</th>\n",
       "      <th>inFormalWords</th>\n",
       "    </tr>\n",
       "  </thead>\n",
       "  <tbody>\n",
       "    <tr>\n",
       "      <th>0</th>\n",
       "      <td>من دوس دارم برم خونه درس بخونم.</td>\n",
       "      <td>من دوست دارم که به خانه بروم تا درس بخوانم.</td>\n",
       "      <td>من/دوست/دارم/بروم/خانه/درس/بخوانم</td>\n",
       "      <td>من/دوس/دارم/برم/خونه/درس/بخونم</td>\n",
       "    </tr>\n",
       "    <tr>\n",
       "      <th>1</th>\n",
       "      <td>میتونی منو ببری خونمون یکم نون وردارم؟</td>\n",
       "      <td>می‌توانی من را به خانه‌مان ببری تا کمی نان برد...</td>\n",
       "      <td>می‌توانی/من را/ببری/خانه‌مان/کمی/نان/بردارم</td>\n",
       "      <td>میتونی/منو/ببری/خونمون/یکم/نون/وردارم</td>\n",
       "    </tr>\n",
       "    <tr>\n",
       "      <th>2</th>\n",
       "      <td>رفتم درمونگاه واسه بچم دوا بگیرم، یهو بارون گرفت</td>\n",
       "      <td>به درمانگاه رفتم تا برای بچه‌ام دوا بگیرم که ی...</td>\n",
       "      <td>رفتم/درمانگاه/برای/بچه‌ام/دوا/بگیرم/یکهو/باران...</td>\n",
       "      <td>رفتم/درمونگاه/واسه/بچم/دوا/بگیرم/یهو/بارون/گرفت</td>\n",
       "    </tr>\n",
       "    <tr>\n",
       "      <th>3</th>\n",
       "      <td>اون که خدا شاهده مث دیوونه هاس</td>\n",
       "      <td>خدا شاهد است که او مثل دیوانه‌ها است.</td>\n",
       "      <td>شاهد است/او/که/خدا/مثل/دیوانه‌ها است</td>\n",
       "      <td>شاهده/اون/که/خدا/مث/دیوونه هاس</td>\n",
       "    </tr>\n",
       "    <tr>\n",
       "      <th>4</th>\n",
       "      <td>یه سری آدما هستن که هر قدر خوبی کنی اصلن انگار...</td>\n",
       "      <td>یک سری آدم‌ها هستند که هر قدر هم خوبی کنی، اصل...</td>\n",
       "      <td>یک/سری/آدم‌ها/هستند/که/هر/قدر/خوبی/کنی/اصلاً/ا...</td>\n",
       "      <td>یه/سری/آدما/هستن/که/هر/قدر/خوبی/کنی/اصلن/انگار...</td>\n",
       "    </tr>\n",
       "  </tbody>\n",
       "</table>\n",
       "</div>"
      ],
      "text/plain": [
       "                                        inFormalForm  \\\n",
       "0                    من دوس دارم برم خونه درس بخونم.   \n",
       "1             میتونی منو ببری خونمون یکم نون وردارم؟   \n",
       "2   رفتم درمونگاه واسه بچم دوا بگیرم، یهو بارون گرفت   \n",
       "3                     اون که خدا شاهده مث دیوونه هاس   \n",
       "4  یه سری آدما هستن که هر قدر خوبی کنی اصلن انگار...   \n",
       "\n",
       "                                          formalForm  \\\n",
       "0        من دوست دارم که به خانه بروم تا درس بخوانم.   \n",
       "1  می‌توانی من را به خانه‌مان ببری تا کمی نان برد...   \n",
       "2  به درمانگاه رفتم تا برای بچه‌ام دوا بگیرم که ی...   \n",
       "3              خدا شاهد است که او مثل دیوانه‌ها است.   \n",
       "4  یک سری آدم‌ها هستند که هر قدر هم خوبی کنی، اصل...   \n",
       "\n",
       "                                         formalWords  \\\n",
       "0                  من/دوست/دارم/بروم/خانه/درس/بخوانم   \n",
       "1        می‌توانی/من را/ببری/خانه‌مان/کمی/نان/بردارم   \n",
       "2  رفتم/درمانگاه/برای/بچه‌ام/دوا/بگیرم/یکهو/باران...   \n",
       "3               شاهد است/او/که/خدا/مثل/دیوانه‌ها است   \n",
       "4  یک/سری/آدم‌ها/هستند/که/هر/قدر/خوبی/کنی/اصلاً/ا...   \n",
       "\n",
       "                                       inFormalWords  \n",
       "0                     من/دوس/دارم/برم/خونه/درس/بخونم  \n",
       "1              میتونی/منو/ببری/خونمون/یکم/نون/وردارم  \n",
       "2    رفتم/درمونگاه/واسه/بچم/دوا/بگیرم/یهو/بارون/گرفت  \n",
       "3                     شاهده/اون/که/خدا/مث/دیوونه هاس  \n",
       "4  یه/سری/آدما/هستن/که/هر/قدر/خوبی/کنی/اصلن/انگار...  "
      ]
     },
     "execution_count": 12,
     "metadata": {},
     "output_type": "execute_result"
    }
   ],
   "source": [
    "df_parsmap = pd.read_excel(\"/kaggle/input/ParsMap.xlsx\")\n",
    "df_parsmap.head()"
   ]
  },
  {
   "cell_type": "code",
   "execution_count": 13,
   "metadata": {
    "execution": {
     "iopub.execute_input": "2025-08-25T07:51:07.034698Z",
     "iopub.status.busy": "2025-08-25T07:51:07.033910Z",
     "iopub.status.idle": "2025-08-25T07:51:07.046800Z",
     "shell.execute_reply": "2025-08-25T07:51:07.046266Z",
     "shell.execute_reply.started": "2025-08-25T07:51:07.034679Z"
    },
    "trusted": true
   },
   "outputs": [
    {
     "name": "stdout",
     "output_type": "stream",
     "text": [
      "من دوس دارم برم خونه درس بخونم.\n"
     ]
    }
   ],
   "source": [
    "normalizer = Normalizer(\n",
    "    full_cleaning=False,\n",
    "    unify_chars=True,\n",
    "    refine_punc_spacing=True,\n",
    "    remove_extra_space=True,\n",
    "    remove_puncs=False,\n",
    "    remove_html=True,\n",
    "    remove_stop_word=False,\n",
    "    replace_email_with=\"<EMAIL>\",\n",
    "    replace_number_with=None,\n",
    "    replace_url_with=\"\",\n",
    "    replace_mobile_number_with=None,\n",
    "    replace_emoji_with=None,\n",
    "    replace_home_number_with=None\n",
    ")\n",
    "\n",
    "text = 'من دوس دارم برم خونه درس بخونم    .'\n",
    "print(normalizer.normalize(text))"
   ]
  },
  {
   "cell_type": "code",
   "execution_count": 14,
   "metadata": {
    "execution": {
     "iopub.execute_input": "2025-08-25T07:51:07.047733Z",
     "iopub.status.busy": "2025-08-25T07:51:07.047488Z",
     "iopub.status.idle": "2025-08-25T07:51:07.066112Z",
     "shell.execute_reply": "2025-08-25T07:51:07.065349Z",
     "shell.execute_reply.started": "2025-08-25T07:51:07.047707Z"
    },
    "trusted": true
   },
   "outputs": [],
   "source": [
    "def normalize_text(text):\n",
    "    if pd.isna(text):\n",
    "        return text\n",
    "    return normalizer.normalize(str(text))"
   ]
  },
  {
   "cell_type": "code",
   "execution_count": 15,
   "metadata": {
    "execution": {
     "iopub.execute_input": "2025-08-25T07:51:07.068194Z",
     "iopub.status.busy": "2025-08-25T07:51:07.067971Z",
     "iopub.status.idle": "2025-08-25T07:51:20.347579Z",
     "shell.execute_reply": "2025-08-25T07:51:20.346907Z",
     "shell.execute_reply.started": "2025-08-25T07:51:07.068171Z"
    },
    "trusted": true
   },
   "outputs": [
    {
     "name": "stderr",
     "output_type": "stream",
     "text": [
      "100%|██████████| 50014/50014 [00:06<00:00, 7294.13it/s]\n",
      "100%|██████████| 50014/50014 [00:06<00:00, 7828.24it/s]\n"
     ]
    },
    {
     "data": {
      "text/html": [
       "<div>\n",
       "<style scoped>\n",
       "    .dataframe tbody tr th:only-of-type {\n",
       "        vertical-align: middle;\n",
       "    }\n",
       "\n",
       "    .dataframe tbody tr th {\n",
       "        vertical-align: top;\n",
       "    }\n",
       "\n",
       "    .dataframe thead th {\n",
       "        text-align: right;\n",
       "    }\n",
       "</style>\n",
       "<table border=\"1\" class=\"dataframe\">\n",
       "  <thead>\n",
       "    <tr style=\"text-align: right;\">\n",
       "      <th></th>\n",
       "      <th>inFormalForm</th>\n",
       "      <th>formalForm</th>\n",
       "      <th>formalWords</th>\n",
       "      <th>inFormalWords</th>\n",
       "    </tr>\n",
       "  </thead>\n",
       "  <tbody>\n",
       "    <tr>\n",
       "      <th>0</th>\n",
       "      <td>من دوس دارم برم خونه درس بخونم.</td>\n",
       "      <td>من دوست دارم که به خانه بروم تا درس بخوانم.</td>\n",
       "      <td>من/دوست/دارم/بروم/خانه/درس/بخوانم</td>\n",
       "      <td>من/دوس/دارم/برم/خونه/درس/بخونم</td>\n",
       "    </tr>\n",
       "    <tr>\n",
       "      <th>1</th>\n",
       "      <td>میتونی منو ببری خونمون یکم نون وردارم؟</td>\n",
       "      <td>می‌توانی من را به خانه‌مان ببری تا کمی نان برد...</td>\n",
       "      <td>می‌توانی/من را/ببری/خانه‌مان/کمی/نان/بردارم</td>\n",
       "      <td>میتونی/منو/ببری/خونمون/یکم/نون/وردارم</td>\n",
       "    </tr>\n",
       "    <tr>\n",
       "      <th>2</th>\n",
       "      <td>رفتم درمونگاه واسه بچم دوا بگیرم، یهو بارون گرفت</td>\n",
       "      <td>به درمانگاه رفتم تا برای بچه‌ام دوا بگیرم که ی...</td>\n",
       "      <td>رفتم/درمانگاه/برای/بچه‌ام/دوا/بگیرم/یکهو/باران...</td>\n",
       "      <td>رفتم/درمونگاه/واسه/بچم/دوا/بگیرم/یهو/بارون/گرفت</td>\n",
       "    </tr>\n",
       "    <tr>\n",
       "      <th>3</th>\n",
       "      <td>اون که خدا شاهده مث دیوونه هاس</td>\n",
       "      <td>خدا شاهد است که او مثل دیوانه‌ها است.</td>\n",
       "      <td>شاهد است/او/که/خدا/مثل/دیوانه‌ها است</td>\n",
       "      <td>شاهده/اون/که/خدا/مث/دیوونه هاس</td>\n",
       "    </tr>\n",
       "    <tr>\n",
       "      <th>4</th>\n",
       "      <td>یه سری آدما هستن که هر قدر خوبی کنی اصلن انگار...</td>\n",
       "      <td>یک سری آدم‌ها هستند که هر قدر هم خوبی کنی، اصل...</td>\n",
       "      <td>یک/سری/آدم‌ها/هستند/که/هر/قدر/خوبی/کنی/اصلاً/ا...</td>\n",
       "      <td>یه/سری/آدما/هستن/که/هر/قدر/خوبی/کنی/اصلن/انگار...</td>\n",
       "    </tr>\n",
       "  </tbody>\n",
       "</table>\n",
       "</div>"
      ],
      "text/plain": [
       "                                        inFormalForm  \\\n",
       "0                    من دوس دارم برم خونه درس بخونم.   \n",
       "1             میتونی منو ببری خونمون یکم نون وردارم؟   \n",
       "2   رفتم درمونگاه واسه بچم دوا بگیرم، یهو بارون گرفت   \n",
       "3                     اون که خدا شاهده مث دیوونه هاس   \n",
       "4  یه سری آدما هستن که هر قدر خوبی کنی اصلن انگار...   \n",
       "\n",
       "                                          formalForm  \\\n",
       "0        من دوست دارم که به خانه بروم تا درس بخوانم.   \n",
       "1  می‌توانی من را به خانه‌مان ببری تا کمی نان برد...   \n",
       "2  به درمانگاه رفتم تا برای بچه‌ام دوا بگیرم که ی...   \n",
       "3              خدا شاهد است که او مثل دیوانه‌ها است.   \n",
       "4  یک سری آدم‌ها هستند که هر قدر هم خوبی کنی، اصل...   \n",
       "\n",
       "                                         formalWords  \\\n",
       "0                  من/دوست/دارم/بروم/خانه/درس/بخوانم   \n",
       "1        می‌توانی/من را/ببری/خانه‌مان/کمی/نان/بردارم   \n",
       "2  رفتم/درمانگاه/برای/بچه‌ام/دوا/بگیرم/یکهو/باران...   \n",
       "3               شاهد است/او/که/خدا/مثل/دیوانه‌ها است   \n",
       "4  یک/سری/آدم‌ها/هستند/که/هر/قدر/خوبی/کنی/اصلاً/ا...   \n",
       "\n",
       "                                       inFormalWords  \n",
       "0                     من/دوس/دارم/برم/خونه/درس/بخونم  \n",
       "1              میتونی/منو/ببری/خونمون/یکم/نون/وردارم  \n",
       "2    رفتم/درمونگاه/واسه/بچم/دوا/بگیرم/یهو/بارون/گرفت  \n",
       "3                     شاهده/اون/که/خدا/مث/دیوونه هاس  \n",
       "4  یه/سری/آدما/هستن/که/هر/قدر/خوبی/کنی/اصلن/انگار...  "
      ]
     },
     "execution_count": 15,
     "metadata": {},
     "output_type": "execute_result"
    }
   ],
   "source": [
    "df_parsmap['formalForm'] = df_parsmap['formalForm'].progress_apply(normalize_text)\n",
    "df_parsmap['inFormalForm'] = df_parsmap['inFormalForm'].progress_apply(normalize_text)\n",
    "\n",
    "df_parsmap.head()"
   ]
  },
  {
   "cell_type": "code",
   "execution_count": 16,
   "metadata": {
    "execution": {
     "iopub.execute_input": "2025-08-25T07:51:20.348560Z",
     "iopub.status.busy": "2025-08-25T07:51:20.348321Z",
     "iopub.status.idle": "2025-08-25T07:51:20.376683Z",
     "shell.execute_reply": "2025-08-25T07:51:20.376199Z",
     "shell.execute_reply.started": "2025-08-25T07:51:20.348544Z"
    },
    "trusted": true
   },
   "outputs": [],
   "source": [
    "df_parsmap = df_parsmap.dropna(subset=[\"inFormalForm\", \"formalForm\"])"
   ]
  },
  {
   "cell_type": "code",
   "execution_count": 18,
   "metadata": {
    "execution": {
     "iopub.execute_input": "2025-08-25T07:52:16.762330Z",
     "iopub.status.busy": "2025-08-25T07:52:16.761870Z",
     "iopub.status.idle": "2025-08-25T07:52:16.768693Z",
     "shell.execute_reply": "2025-08-25T07:52:16.767326Z",
     "shell.execute_reply.started": "2025-08-25T07:52:16.762298Z"
    },
    "trusted": true
   },
   "outputs": [
    {
     "name": "stdout",
     "output_type": "stream",
     "text": [
      "Compute dtype: torch.float16\n"
     ]
    }
   ],
   "source": [
    "base_model_id = \"MehdiHosseiniMoghadam/AVA-Llama-3-V2\"\n",
    "\n",
    "compute_dtype = torch.bfloat16 if torch.cuda.get_device_capability(0)[0] >= 8 else torch.float16\n",
    "\n",
    "print(\"Compute dtype:\", compute_dtype)"
   ]
  },
  {
   "cell_type": "code",
   "execution_count": 14,
   "metadata": {
    "execution": {
     "iopub.execute_input": "2025-08-19T19:00:07.595654Z",
     "iopub.status.busy": "2025-08-19T19:00:07.594930Z",
     "iopub.status.idle": "2025-08-19T19:00:07.929313Z",
     "shell.execute_reply": "2025-08-19T19:00:07.928743Z",
     "shell.execute_reply.started": "2025-08-19T19:00:07.595627Z"
    },
    "trusted": true
   },
   "outputs": [],
   "source": [
    "def safe_str(x):\n",
    "    return \"\" if x is None or (isinstance(x, float) and np.isnan(x)) else str(x)\n",
    "\n",
    "df = df_parsmap.copy()\n",
    "df = df.dropna(subset=[\"inFormalForm\",\"formalForm\"])  # keep only rows with both sides\n",
    "\n",
    "def make_text(row):\n",
    "    informal = safe_str(row[\"inFormalForm\"])\n",
    "    formal   = safe_str(row[\"formalForm\"])\n",
    "    return f\"غیررسمی: {informal}\\nرسمی: {formal}\"\n",
    "\n",
    "df[\"text\"] = df.apply(make_text, axis=1)"
   ]
  },
  {
   "cell_type": "code",
   "execution_count": 15,
   "metadata": {
    "execution": {
     "iopub.execute_input": "2025-08-19T19:00:07.930131Z",
     "iopub.status.busy": "2025-08-19T19:00:07.929924Z",
     "iopub.status.idle": "2025-08-19T19:00:08.143475Z",
     "shell.execute_reply": "2025-08-19T19:00:08.142821Z",
     "shell.execute_reply.started": "2025-08-19T19:00:07.930091Z"
    },
    "trusted": true
   },
   "outputs": [
    {
     "data": {
      "text/plain": [
       "(45011, 5002)"
      ]
     },
     "execution_count": 15,
     "metadata": {},
     "output_type": "execute_result"
    }
   ],
   "source": [
    "perm = np.random.permutation(len(df))\n",
    "cut = int(0.9*len(df))\n",
    "train_df = df.iloc[perm[:cut]].reset_index(drop=True)\n",
    "val_df   = df.iloc[perm[cut:]].reset_index(drop=True)\n",
    "\n",
    "ds = DatasetDict({\n",
    "    \"train\": Dataset.from_pandas(train_df[[\"text\"]]),\n",
    "    \"validation\": Dataset.from_pandas(val_df[[\"text\"]]),\n",
    "})\n",
    "len(ds[\"train\"]), len(ds[\"validation\"])"
   ]
  },
  {
   "cell_type": "code",
   "execution_count": 16,
   "metadata": {
    "execution": {
     "iopub.execute_input": "2025-08-19T19:00:08.144414Z",
     "iopub.status.busy": "2025-08-19T19:00:08.144166Z",
     "iopub.status.idle": "2025-08-19T19:00:10.196135Z",
     "shell.execute_reply": "2025-08-19T19:00:10.195346Z",
     "shell.execute_reply.started": "2025-08-19T19:00:08.144396Z"
    },
    "trusted": true
   },
   "outputs": [
    {
     "data": {
      "application/vnd.jupyter.widget-view+json": {
       "model_id": "98813d5c80844386978a15eecc80b9b7",
       "version_major": 2,
       "version_minor": 0
      },
      "text/plain": [
       "tokenizer_config.json: 0.00B [00:00, ?B/s]"
      ]
     },
     "metadata": {},
     "output_type": "display_data"
    },
    {
     "data": {
      "application/vnd.jupyter.widget-view+json": {
       "model_id": "57436dcf344245409341d0cb1324cb81",
       "version_major": 2,
       "version_minor": 0
      },
      "text/plain": [
       "tokenizer.json: 0.00B [00:00, ?B/s]"
      ]
     },
     "metadata": {},
     "output_type": "display_data"
    },
    {
     "data": {
      "application/vnd.jupyter.widget-view+json": {
       "model_id": "38966bf4f38a4422ac983dc6091bd828",
       "version_major": 2,
       "version_minor": 0
      },
      "text/plain": [
       "special_tokens_map.json:   0%|          | 0.00/419 [00:00<?, ?B/s]"
      ]
     },
     "metadata": {},
     "output_type": "display_data"
    },
    {
     "name": "stdout",
     "output_type": "stream",
     "text": [
      "Added new tokens: 2\n"
     ]
    }
   ],
   "source": [
    "tokenizer = AutoTokenizer.from_pretrained(base_model_id, use_fast=True, trust_remote_code=True)\n",
    "\n",
    "specials = {\n",
    "    \"bos_token\": \"<s>\",\n",
    "    \"eos_token\": \"</s>\",\n",
    "    \"pad_token\": \"<pad>\",\n",
    "}\n",
    "\n",
    "for k,v in specials.items():\n",
    "    if getattr(tokenizer, k, None) != v:\n",
    "        tokenizer.add_special_tokens({k: v})\n",
    "\n",
    "added = tokenizer.add_tokens([\"غیررسمی:\", \"رسمی:\"], special_tokens=True)\n",
    "print(\"Added new tokens:\", added)\n",
    "\n",
    "if tokenizer.pad_token is None:\n",
    "    tokenizer.pad_token = tokenizer.eos_token"
   ]
  },
  {
   "cell_type": "code",
   "execution_count": 17,
   "metadata": {
    "execution": {
     "iopub.execute_input": "2025-08-19T19:00:10.197239Z",
     "iopub.status.busy": "2025-08-19T19:00:10.196955Z",
     "iopub.status.idle": "2025-08-19T19:02:42.587843Z",
     "shell.execute_reply": "2025-08-19T19:02:42.587000Z",
     "shell.execute_reply.started": "2025-08-19T19:00:10.197212Z"
    },
    "trusted": true
   },
   "outputs": [
    {
     "data": {
      "application/vnd.jupyter.widget-view+json": {
       "model_id": "c404dea40bfa49c09f6dfe324e258250",
       "version_major": 2,
       "version_minor": 0
      },
      "text/plain": [
       "config.json:   0%|          | 0.00/730 [00:00<?, ?B/s]"
      ]
     },
     "metadata": {},
     "output_type": "display_data"
    },
    {
     "data": {
      "application/vnd.jupyter.widget-view+json": {
       "model_id": "a1c074f6b3ac43eb95c74d912513c3cb",
       "version_major": 2,
       "version_minor": 0
      },
      "text/plain": [
       "model.safetensors.index.json: 0.00B [00:00, ?B/s]"
      ]
     },
     "metadata": {},
     "output_type": "display_data"
    },
    {
     "data": {
      "application/vnd.jupyter.widget-view+json": {
       "model_id": "9e3a3a27ba944d36becd0ae2fe1c8a15",
       "version_major": 2,
       "version_minor": 0
      },
      "text/plain": [
       "Fetching 4 files:   0%|          | 0/4 [00:00<?, ?it/s]"
      ]
     },
     "metadata": {},
     "output_type": "display_data"
    },
    {
     "data": {
      "application/vnd.jupyter.widget-view+json": {
       "model_id": "a2c8b5e4f7f646db8732c83eae3253b0",
       "version_major": 2,
       "version_minor": 0
      },
      "text/plain": [
       "model-00003-of-00004.safetensors:   0%|          | 0.00/4.92G [00:00<?, ?B/s]"
      ]
     },
     "metadata": {},
     "output_type": "display_data"
    },
    {
     "data": {
      "application/vnd.jupyter.widget-view+json": {
       "model_id": "90ccbfd5414c4d60992e4eb8921644ed",
       "version_major": 2,
       "version_minor": 0
      },
      "text/plain": [
       "model-00001-of-00004.safetensors:   0%|          | 0.00/4.98G [00:00<?, ?B/s]"
      ]
     },
     "metadata": {},
     "output_type": "display_data"
    },
    {
     "data": {
      "application/vnd.jupyter.widget-view+json": {
       "model_id": "9f29e20e6c0240c4a44bc0c925d04dba",
       "version_major": 2,
       "version_minor": 0
      },
      "text/plain": [
       "model-00002-of-00004.safetensors:   0%|          | 0.00/5.00G [00:00<?, ?B/s]"
      ]
     },
     "metadata": {},
     "output_type": "display_data"
    },
    {
     "data": {
      "application/vnd.jupyter.widget-view+json": {
       "model_id": "503c55390da44b12bb10e7754150a55c",
       "version_major": 2,
       "version_minor": 0
      },
      "text/plain": [
       "model-00004-of-00004.safetensors:   0%|          | 0.00/1.17G [00:00<?, ?B/s]"
      ]
     },
     "metadata": {},
     "output_type": "display_data"
    },
    {
     "data": {
      "application/vnd.jupyter.widget-view+json": {
       "model_id": "8bb72bd16891401d869948c2df729c6c",
       "version_major": 2,
       "version_minor": 0
      },
      "text/plain": [
       "Loading checkpoint shards:   0%|          | 0/4 [00:00<?, ?it/s]"
      ]
     },
     "metadata": {},
     "output_type": "display_data"
    },
    {
     "data": {
      "application/vnd.jupyter.widget-view+json": {
       "model_id": "cff77c927c024241abc77c2eb8a5fd2b",
       "version_major": 2,
       "version_minor": 0
      },
      "text/plain": [
       "generation_config.json:   0%|          | 0.00/147 [00:00<?, ?B/s]"
      ]
     },
     "metadata": {},
     "output_type": "display_data"
    },
    {
     "name": "stderr",
     "output_type": "stream",
     "text": [
      "The new embeddings will be initialized from a multivariate normal distribution that has old embeddings' mean and covariance. As described in this article: https://nlp.stanford.edu/~johnhew/vocab-expansion.html. To disable this, use `mean_resizing=False`\n",
      "The new lm_head weights will be initialized from a multivariate normal distribution that has old embeddings' mean and covariance. As described in this article: https://nlp.stanford.edu/~johnhew/vocab-expansion.html. To disable this, use `mean_resizing=False`\n"
     ]
    }
   ],
   "source": [
    "bnb_config = BitsAndBytesConfig(\n",
    "    load_in_4bit=True,\n",
    "    bnb_4bit_quant_type=\"nf4\",\n",
    "    bnb_4bit_use_double_quant=True,\n",
    "    bnb_4bit_compute_dtype=compute_dtype,\n",
    ")\n",
    "\n",
    "model = AutoModelForCausalLM.from_pretrained(\n",
    "    base_model_id,\n",
    "    trust_remote_code=True,\n",
    "    quantization_config=bnb_config,\n",
    "    device_map=\"auto\",\n",
    ")\n",
    "\n",
    "model.resize_token_embeddings(len(tokenizer))\n",
    "\n",
    "model = prepare_model_for_kbit_training(model)\n",
    "model.config.use_cache = False  "
   ]
  },
  {
   "cell_type": "code",
   "execution_count": 18,
   "metadata": {
    "execution": {
     "iopub.execute_input": "2025-08-19T19:02:42.589115Z",
     "iopub.status.busy": "2025-08-19T19:02:42.588625Z",
     "iopub.status.idle": "2025-08-19T19:02:44.742698Z",
     "shell.execute_reply": "2025-08-19T19:02:44.741942Z",
     "shell.execute_reply.started": "2025-08-19T19:02:42.589070Z"
    },
    "trusted": true
   },
   "outputs": [
    {
     "name": "stdout",
     "output_type": "stream",
     "text": [
      "Trainable: 83,886,080 / Total: 4,624,543,744 (1.81%)\n"
     ]
    }
   ],
   "source": [
    "\n",
    "lora_config = LoraConfig(\n",
    "    r=32, lora_alpha=64, lora_dropout=0.1, bias=\"none\", task_type=\"CAUSAL_LM\",\n",
    "    target_modules=[\"q_proj\",\"k_proj\",\"v_proj\",\"o_proj\",\"gate_proj\",\"up_proj\",\"down_proj\"],\n",
    ")\n",
    "model = get_peft_model(model, lora_config)\n",
    "\n",
    "model.gradient_checkpointing_enable()\n",
    "\n",
    "trainable = sum(p.numel() for p in model.parameters() if p.requires_grad)\n",
    "total     = sum(p.numel() for p in model.parameters())\n",
    "print(f\"Trainable: {trainable:,} / Total: {total:,} ({100*trainable/total:.2f}%)\")\n"
   ]
  },
  {
   "cell_type": "code",
   "execution_count": 19,
   "metadata": {
    "execution": {
     "iopub.execute_input": "2025-08-19T19:02:44.743959Z",
     "iopub.status.busy": "2025-08-19T19:02:44.743688Z",
     "iopub.status.idle": "2025-08-19T19:02:50.125208Z",
     "shell.execute_reply": "2025-08-19T19:02:50.124433Z",
     "shell.execute_reply.started": "2025-08-19T19:02:44.743933Z"
    },
    "trusted": true
   },
   "outputs": [
    {
     "data": {
      "application/vnd.jupyter.widget-view+json": {
       "model_id": "b64e0b369e504d14b152162b48580342",
       "version_major": 2,
       "version_minor": 0
      },
      "text/plain": [
       "Map:   0%|          | 0/45011 [00:00<?, ? examples/s]"
      ]
     },
     "metadata": {},
     "output_type": "display_data"
    },
    {
     "data": {
      "application/vnd.jupyter.widget-view+json": {
       "model_id": "9a8e2e51c6a941b99bd9d9188d5cf6dc",
       "version_major": 2,
       "version_minor": 0
      },
      "text/plain": [
       "Map:   0%|          | 0/5002 [00:00<?, ? examples/s]"
      ]
     },
     "metadata": {},
     "output_type": "display_data"
    }
   ],
   "source": [
    "max_length = 64\n",
    "\n",
    "def tokenize_batch(batch):\n",
    "    return tokenizer(\n",
    "        batch[\"text\"],\n",
    "        truncation=True,\n",
    "        max_length=max_length,\n",
    "        padding=\"max_length\",\n",
    "    )\n",
    "\n",
    "tokenized = ds.map(tokenize_batch, batched=True, remove_columns=ds[\"train\"].column_names)"
   ]
  },
  {
   "cell_type": "code",
   "execution_count": 20,
   "metadata": {
    "execution": {
     "iopub.execute_input": "2025-08-19T19:02:50.126584Z",
     "iopub.status.busy": "2025-08-19T19:02:50.126085Z",
     "iopub.status.idle": "2025-08-19T19:02:50.130817Z",
     "shell.execute_reply": "2025-08-19T19:02:50.130149Z",
     "shell.execute_reply.started": "2025-08-19T19:02:50.126556Z"
    },
    "trusted": true
   },
   "outputs": [],
   "source": [
    "collator = DataCollatorForLanguageModeling(tokenizer=tokenizer, mlm=False)"
   ]
  },
  {
   "cell_type": "code",
   "execution_count": 21,
   "metadata": {
    "execution": {
     "iopub.execute_input": "2025-08-19T19:02:50.132331Z",
     "iopub.status.busy": "2025-08-19T19:02:50.132038Z",
     "iopub.status.idle": "2025-08-19T19:02:50.179773Z",
     "shell.execute_reply": "2025-08-19T19:02:50.179041Z",
     "shell.execute_reply.started": "2025-08-19T19:02:50.132308Z"
    },
    "trusted": true
   },
   "outputs": [],
   "source": [
    "effective_bs = 16 \n",
    "per_device_train_bs = 2\n",
    "per_device_eval_bs = 2\n",
    "grad_accum = max(1, effective_bs // per_device_train_bs)\n",
    "epochs = 1\n",
    "\n",
    "args = TrainingArguments(\n",
    "    output_dir=\"./AVA-llama3-v2-formalizer-lora\",\n",
    "    num_train_epochs=epochs,\n",
    "    per_device_train_batch_size=per_device_train_bs,\n",
    "    per_device_eval_batch_size=per_device_eval_bs,\n",
    "    gradient_accumulation_steps=grad_accum,\n",
    "    learning_rate=1e-5,\n",
    "    warmup_ratio=0.03,\n",
    "    lr_scheduler_type=\"cosine\",\n",
    "    weight_decay=0.001,\n",
    "    logging_steps=50,\n",
    "\n",
    "    eval_strategy=\"steps\",\n",
    "    eval_steps=500,             \n",
    "    save_total_limit=2,\n",
    "    load_best_model_at_end=True,\n",
    "\n",
    "    bf16=(compute_dtype==torch.bfloat16),\n",
    "    fp16=(compute_dtype==torch.float16),\n",
    "\n",
    "    optim=\"paged_adamw_8bit\",          \n",
    "\n",
    "    dataloader_num_workers=4,\n",
    "    dataloader_pin_memory=True,\n",
    "    dataloader_persistent_workers=True,\n",
    "\n",
    "    group_by_length=True,              \n",
    "    report_to=\"none\",\n",
    ")"
   ]
  },
  {
   "cell_type": "code",
   "execution_count": null,
   "metadata": {
    "execution": {
     "iopub.execute_input": "2025-08-19T19:02:50.180939Z",
     "iopub.status.busy": "2025-08-19T19:02:50.180644Z"
    },
    "trusted": true
   },
   "outputs": [
    {
     "name": "stderr",
     "output_type": "stream",
     "text": [
      "huggingface/tokenizers: The current process just got forked, after parallelism has already been used. Disabling parallelism to avoid deadlocks...\n",
      "To disable this warning, you can either:\n",
      "\t- Avoid using `tokenizers` before the fork if possible\n",
      "\t- Explicitly set the environment variable TOKENIZERS_PARALLELISM=(true | false)\n",
      "huggingface/tokenizers: The current process just got forked, after parallelism has already been used. Disabling parallelism to avoid deadlocks...\n",
      "To disable this warning, you can either:\n",
      "\t- Avoid using `tokenizers` before the fork if possible\n",
      "\t- Explicitly set the environment variable TOKENIZERS_PARALLELISM=(true | false)\n",
      "huggingface/tokenizers: The current process just got forked, after parallelism has already been used. Disabling parallelism to avoid deadlocks...\n",
      "To disable this warning, you can either:\n",
      "\t- Avoid using `tokenizers` before the fork if possible\n",
      "\t- Explicitly set the environment variable TOKENIZERS_PARALLELISM=(true | false)\n",
      "huggingface/tokenizers: The current process just got forked, after parallelism has already been used. Disabling parallelism to avoid deadlocks...\n",
      "To disable this warning, you can either:\n",
      "\t- Avoid using `tokenizers` before the fork if possible\n",
      "\t- Explicitly set the environment variable TOKENIZERS_PARALLELISM=(true | false)\n"
     ]
    },
    {
     "data": {
      "text/html": [
       "\n",
       "    <div>\n",
       "      \n",
       "      <progress value='24' max='2814' style='width:300px; height:20px; vertical-align: middle;'></progress>\n",
       "      [  24/2814 02:55 < 6:10:59, 0.13 it/s, Epoch 0.01/1]\n",
       "    </div>\n",
       "    <table border=\"1\" class=\"dataframe\">\n",
       "  <thead>\n",
       " <tr style=\"text-align: left;\">\n",
       "      <th>Step</th>\n",
       "      <th>Training Loss</th>\n",
       "      <th>Validation Loss</th>\n",
       "    </tr>\n",
       "  </thead>\n",
       "  <tbody>\n",
       "  </tbody>\n",
       "</table><p>"
      ],
      "text/plain": [
       "<IPython.core.display.HTML object>"
      ]
     },
     "metadata": {},
     "output_type": "display_data"
    }
   ],
   "source": [
    "trainer = Trainer(\n",
    "    model=model,\n",
    "    args=args,\n",
    "    train_dataset=tokenized[\"train\"],\n",
    "    eval_dataset=tokenized[\"validation\"],\n",
    "    data_collator=collator,\n",
    "    tokenizer=tokenizer,\n",
    ")\n",
    "\n",
    "trainer.train()"
   ]
  },
  {
   "cell_type": "code",
   "execution_count": null,
   "metadata": {
    "trusted": true
   },
   "outputs": [],
   "source": [
    "new_model = \"AVA-Llama3-V2-formalizer-lora\""
   ]
  },
  {
   "cell_type": "code",
   "execution_count": null,
   "metadata": {
    "trusted": true
   },
   "outputs": [],
   "source": [
    "trainer.model.save_pretrained(new_model)"
   ]
  },
  {
   "cell_type": "code",
   "execution_count": null,
   "metadata": {
    "trusted": true
   },
   "outputs": [],
   "source": [
    "tokenizer = AutoTokenizer.from_pretrained(\"/kaggle/working/AVA-llama3-v2-formalizer-lora/checkpoint-2814\")\n",
    "\n",
    "base_model = AutoModelForCausalLM.from_pretrained(\n",
    "    base_model_id,\n",
    "    low_cpu_mem_usage=True,\n",
    "    return_dict=True,\n",
    "    torch_dtype=torch.float16,\n",
    "    device_map=\"auto\",\n",
    ")\n",
    "\n",
    "base_model.resize_token_embeddings(len(tokenizer))\n",
    "\n"
   ]
  },
  {
   "cell_type": "code",
   "execution_count": 20,
   "metadata": {
    "execution": {
     "iopub.execute_input": "2025-08-25T07:57:39.054215Z",
     "iopub.status.busy": "2025-08-25T07:57:39.053871Z",
     "iopub.status.idle": "2025-08-25T07:58:03.808161Z",
     "shell.execute_reply": "2025-08-25T07:58:03.807557Z",
     "shell.execute_reply.started": "2025-08-25T07:57:39.054193Z"
    },
    "trusted": true
   },
   "outputs": [],
   "source": [
    "from peft import LoraConfig, get_peft_model, prepare_model_for_kbit_training, PeftModel\n",
    "\n",
    "\n",
    "model = PeftModel.from_pretrained(base_model, \"/kaggle/working/AVA-llama3-v2-formalizer-lora/checkpoint-2814\")\n",
    "\n",
    "model = model.merge_and_unload()"
   ]
  },
  {
   "cell_type": "code",
   "execution_count": 21,
   "metadata": {
    "execution": {
     "iopub.execute_input": "2025-08-25T07:58:03.809443Z",
     "iopub.status.busy": "2025-08-25T07:58:03.809191Z",
     "iopub.status.idle": "2025-08-25T07:58:03.813096Z",
     "shell.execute_reply": "2025-08-25T07:58:03.812401Z",
     "shell.execute_reply.started": "2025-08-25T07:58:03.809420Z"
    },
    "trusted": true
   },
   "outputs": [],
   "source": [
    "import locale\n",
    "locale.getpreferredencoding = lambda: \"UTF-8\""
   ]
  },
  {
   "cell_type": "code",
   "execution_count": null,
   "metadata": {
    "execution": {
     "iopub.execute_input": "2025-08-25T07:58:48.734175Z",
     "iopub.status.busy": "2025-08-25T07:58:48.733578Z",
     "iopub.status.idle": "2025-08-25T08:02:17.612419Z",
     "shell.execute_reply": "2025-08-25T08:02:17.611802Z",
     "shell.execute_reply.started": "2025-08-25T07:58:48.734150Z"
    },
    "trusted": true
   },
   "outputs": [],
   "source": [
    "from huggingface_hub import login\n",
    "\n",
    "api_token = \"\"  \n",
    "login(token=api_token)\n",
    "\n",
    "model_name = \"AylinNaebzadeh/AVA-Llama-3-V2-formalizer-qlora\"\n",
    "\n",
    "model.push_to_hub(model_name, check_pr=True)\n",
    "\n",
    "tokenizer.push_to_hub(model_name, check_pr=True)"
   ]
  },
  {
   "cell_type": "code",
   "execution_count": 31,
   "metadata": {
    "execution": {
     "iopub.execute_input": "2025-08-25T08:11:18.359928Z",
     "iopub.status.busy": "2025-08-25T08:11:18.359594Z",
     "iopub.status.idle": "2025-08-25T08:11:18.366929Z",
     "shell.execute_reply": "2025-08-25T08:11:18.366277Z",
     "shell.execute_reply.started": "2025-08-25T08:11:18.359903Z"
    },
    "trusted": true
   },
   "outputs": [],
   "source": [
    "import torch, re, random\n",
    "from nltk.translate.bleu_score import sentence_bleu, SmoothingFunction\n",
    "from nltk.tokenize import word_tokenize\n",
    "\n",
    "def generator(informal, max_length=64, num_return_sequences=3):\n",
    "    model.eval()\n",
    "    prompt = f\"<s>غیررسمی:{normalize_text(informal)}رسمی:\"\n",
    "\n",
    "    inputs = tokenizer(prompt, return_tensors=\"pt\").to(model.device)\n",
    "\n",
    "    # decoded_outputs = model.generate(\n",
    "    #     **inputs,\n",
    "    #     do_sample=True,\n",
    "    #     top_k=50,\n",
    "    #     max_new_tokens=64,\n",
    "    #     top_p=0.95,\n",
    "    #     num_return_sequences=num_return_sequences\n",
    "    # )\n",
    "    decoded_outputs = model.generate(\n",
    "        **inputs,\n",
    "        do_sample=True,\n",
    "        top_k=1,\n",
    "        temperature=0.99,\n",
    "        max_new_tokens=90,\n",
    "        pad_token_id=tokenizer.eos_token_id,\n",
    "        num_return_sequences=num_return_sequences\n",
    "    )\n",
    "    \n",
    "    outputs = []\n",
    "    for output in decoded_outputs:\n",
    "        o = tokenizer.decode(output, skip_special_tokens=)\n",
    "        o = o.replace(\"<s>\", \"\").replace(\"</s>\", \"\").replace(\"<pad>\", \"\")\n",
    "        pattern = r'غیررسمی:.*?رسمی:'\n",
    "\n",
    "        o = re.sub(pattern, '', o)\n",
    "        outputs.append(o.strip())\n",
    "        \n",
    "    if num_return_sequences > 1:\n",
    "        print('Input: ', informal, \"\\n\")\n",
    "        print('Prompt: ', prompt, \"\\n\")\n",
    "        print('Outputs: ')\n",
    "\n",
    "        for out in outputs:\n",
    "            print(out)\n",
    "            \n",
    "    return outputs"
   ]
  },
  {
   "cell_type": "code",
   "execution_count": 32,
   "metadata": {
    "execution": {
     "iopub.execute_input": "2025-08-25T08:11:20.299950Z",
     "iopub.status.busy": "2025-08-25T08:11:20.299650Z",
     "iopub.status.idle": "2025-08-25T08:11:27.272831Z",
     "shell.execute_reply": "2025-08-25T08:11:27.272067Z",
     "shell.execute_reply.started": "2025-08-25T08:11:20.299921Z"
    },
    "trusted": true
   },
   "outputs": [
    {
     "name": "stdout",
     "output_type": "stream",
     "text": [
      "Input:  امروز روز خوبیه \n",
      "\n",
      "Prompt:  <s>غیررسمی:امروز روز خوبیهرسمی: \n",
      "\n",
      "Outputs: \n",
      "امروزه روز خوبی است.\n",
      "<|eot_id|> امروز روز خوبی است. هی‌ات!؟!؟!؟!؟!؟!؟!؟!؟!؟!؟!؟!؟!؟!؟!؟!؟!؟!؟!؟!؟!؟!؟!؟!؟!؟!؟!؟!؟!؟!؟!؟!؟!؟!؟!؟!؟!؟\n",
      "امروزه روز خوبی است.\n",
      "<|eot_id|> امروز روز خوبی است. هی‌ات!؟!؟!؟!؟!؟!؟!؟!؟!؟!؟!؟!؟!؟!؟!؟!؟!؟!؟!؟!؟!؟!؟!؟!؟!؟!؟!؟!؟!؟!؟!؟!؟!؟!؟!؟!؟!؟\n",
      "امروزه روز خوبی است.\n",
      "<|eot_id|> امروز روز خوبی است. هی‌ات!؟!؟!؟!؟!؟!؟!؟!؟!؟!؟!؟!؟!؟!؟!؟!؟!؟!؟!؟!؟!؟!؟!؟!؟!؟!؟!؟!؟!؟!؟!؟!؟!؟!؟!؟!؟!؟\n"
     ]
    }
   ],
   "source": [
    "out = generator(\"امروز روز خوبیه\")"
   ]
  },
  {
   "cell_type": "code",
   "execution_count": 33,
   "metadata": {
    "execution": {
     "iopub.execute_input": "2025-08-25T08:15:39.334111Z",
     "iopub.status.busy": "2025-08-25T08:15:39.333797Z",
     "iopub.status.idle": "2025-08-25T08:15:46.314731Z",
     "shell.execute_reply": "2025-08-25T08:15:46.314134Z",
     "shell.execute_reply.started": "2025-08-25T08:15:39.334091Z"
    },
    "trusted": true
   },
   "outputs": [
    {
     "name": "stdout",
     "output_type": "stream",
     "text": [
      "Input:  اخه چه فایده داره این کار!!! \n",
      "\n",
      "Prompt:  <s>غیررسمی:اخه چه فایده داره این کار!!!رسمی: \n",
      "\n",
      "Outputs: \n",
      "آخر چه فایده دارد این کار!؟!؟!؟!؟!؟!؟!؟!؟!؟!؟!؟!؟!؟!؟!؟!؟!؟!؟!؟!؟!؟!؟!؟!؟!؟!؟!؟!؟!؟!؟!؟!؟!؟!؟!؟!؟!؟!؟!؟!؟!؟\n",
      "آخر چه فایده دارد این کار!؟!؟!؟!؟!؟!؟!؟!؟!؟!؟!؟!؟!؟!؟!؟!؟!؟!؟!؟!؟!؟!؟!؟!؟!؟!؟!؟!؟!؟!؟!؟!؟!؟!؟!؟!؟!؟!؟!؟!؟!؟\n",
      "آخر چه فایده دارد این کار!؟!؟!؟!؟!؟!؟!؟!؟!؟!؟!؟!؟!؟!؟!؟!؟!؟!؟!؟!؟!؟!؟!؟!؟!؟!؟!؟!؟!؟!؟!؟!؟!؟!؟!؟!؟!؟!؟!؟!؟!؟\n"
     ]
    }
   ],
   "source": [
    "out = generator(\"اخه چه فایده داره این کار!!!\")"
   ]
  },
  {
   "cell_type": "code",
   "execution_count": 34,
   "metadata": {
    "execution": {
     "iopub.execute_input": "2025-08-25T08:16:12.884415Z",
     "iopub.status.busy": "2025-08-25T08:16:12.884165Z",
     "iopub.status.idle": "2025-08-25T08:16:19.831567Z",
     "shell.execute_reply": "2025-08-25T08:16:19.830877Z",
     "shell.execute_reply.started": "2025-08-25T08:16:12.884399Z"
    },
    "trusted": true
   },
   "outputs": [
    {
     "name": "stdout",
     "output_type": "stream",
     "text": [
      "Input:  بنظرت کارما میگیرتش؟! \n",
      "\n",
      "Prompt:  <s>غیررسمی:بنظرت کارما میگیرتش؟!رسمی: \n",
      "\n",
      "Outputs: \n",
      "بنظرت کارما می‌گیرد او را؟!؟!؟!؟!؟!؟!؟!؟!؟!؟!؟!؟!؟!؟!؟!؟!؟!؟!؟!؟!؟!؟!؟!؟!؟!؟!؟!؟!؟!؟!؟!؟!؟!؟!؟!؟!؟!؟!؟!؟\n",
      "بنظرت کارما می‌گیرد او را؟!؟!؟!؟!؟!؟!؟!؟!؟!؟!؟!؟!؟!؟!؟!؟!؟!؟!؟!؟!؟!؟!؟!؟!؟!؟!؟!؟!؟!؟!؟!؟!؟!؟!؟!؟!؟!؟!؟!؟\n",
      "بنظرت کارما می‌گیرد او را؟!؟!؟!؟!؟!؟!؟!؟!؟!؟!؟!؟!؟!؟!؟!؟!؟!؟!؟!؟!؟!؟!؟!؟!؟!؟!؟!؟!؟!؟!؟!؟!؟!؟!؟!؟!؟!؟!؟!؟\n"
     ]
    }
   ],
   "source": [
    "out = generator(\"بنظرت کارما میگیرتش؟!\")"
   ]
  },
  {
   "cell_type": "code",
   "execution_count": 35,
   "metadata": {
    "execution": {
     "iopub.execute_input": "2025-08-25T08:16:36.593721Z",
     "iopub.status.busy": "2025-08-25T08:16:36.593451Z",
     "iopub.status.idle": "2025-08-25T10:00:09.563117Z",
     "shell.execute_reply": "2025-08-25T10:00:09.562535Z",
     "shell.execute_reply.started": "2025-08-25T08:16:36.593702Z"
    },
    "trusted": true
   },
   "outputs": [
    {
     "name": "stderr",
     "output_type": "stream",
     "text": [
      "Generating outputs: 100%|██████████| 1000/1000 [1:43:32<00:00,  6.21s/it]\n"
     ]
    },
    {
     "name": "stdout",
     "output_type": "stream",
     "text": [
      "Average BLEU score on 1000 samples: 0.0937\n"
     ]
    }
   ],
   "source": [
    "sample_size = 1000\n",
    "sample_indices = random.sample(range(len(df_parsmap)), sample_size)\n",
    "\n",
    "reference_texts = [df_parsmap.iloc[i]['formalForm'] for i in sample_indices]\n",
    "# generated_texts = [generator(df_parsmap.iloc[i]['inFormalForm'], num_return_sequences=1)[0] for i in sample_indices]\n",
    "\n",
    "informal_texts = [df_parsmap.iloc[i]['inFormalForm'] for i in sample_indices]\n",
    "\n",
    "generated_texts = []\n",
    "for text in tqdm(informal_texts, desc=\"Generating outputs\"):\n",
    "    generated_texts.append(generator(text, num_return_sequences=1)[0])\n",
    "\n",
    "reference_tokens = [word_tokenize(text) for text in reference_texts]\n",
    "generated_tokens = [word_tokenize(text) for text in generated_texts]\n",
    "\n",
    "bleu_scores = []\n",
    "smoothing_func = SmoothingFunction().method1\n",
    "\n",
    "for ref_tokens, gen_tokens in zip(reference_tokens, generated_tokens):\n",
    "    bleu = sentence_bleu([ref_tokens], gen_tokens, smoothing_function=smoothing_func)\n",
    "    bleu_scores.append(bleu)\n",
    "\n",
    "avg_bleu_score = sum(bleu_scores) / len(bleu_scores)\n",
    "\n",
    "print(f\"Average BLEU score on {sample_size} samples: {avg_bleu_score:.4f}\")"
   ]
  }
 ],
 "metadata": {
  "kaggle": {
   "accelerator": "nvidiaTeslaT4",
   "dataSources": [
    {
     "datasetId": 7556052,
     "sourceId": 12010481,
     "sourceType": "datasetVersion"
    }
   ],
   "dockerImageVersionId": 31090,
   "isGpuEnabled": true,
   "isInternetEnabled": true,
   "language": "python",
   "sourceType": "notebook"
  },
  "kernelspec": {
   "display_name": "Python 3",
   "language": "python",
   "name": "python3"
  },
  "language_info": {
   "codemirror_mode": {
    "name": "ipython",
    "version": 3
   },
   "file_extension": ".py",
   "mimetype": "text/x-python",
   "name": "python",
   "nbconvert_exporter": "python",
   "pygments_lexer": "ipython3",
   "version": "3.11.13"
  }
 },
 "nbformat": 4,
 "nbformat_minor": 4
}
